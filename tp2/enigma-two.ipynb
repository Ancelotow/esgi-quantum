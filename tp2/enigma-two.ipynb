{
 "cells": [
  {
   "cell_type": "markdown",
   "id": "e875e4dfebb43765",
   "metadata": {},
   "source": [
    "Import des librairies"
   ]
  },
  {
   "cell_type": "code",
   "execution_count": 10,
   "id": "initial_id",
   "metadata": {
    "ExecuteTime": {
     "end_time": "2023-12-06T21:42:47.120853Z",
     "start_time": "2023-12-06T21:42:47.101954Z"
    }
   },
   "outputs": [
    {
     "ename": "ModuleNotFoundError",
     "evalue": "No module named 'qiskit'",
     "output_type": "error",
     "traceback": [
      "\u001B[0;31m---------------------------------------------------------------------------\u001B[0m",
      "\u001B[0;31mModuleNotFoundError\u001B[0m                       Traceback (most recent call last)",
      "Cell \u001B[0;32mIn[10], line 1\u001B[0m\n\u001B[0;32m----> 1\u001B[0m \u001B[38;5;28;01mfrom\u001B[39;00m \u001B[38;5;21;01mqiskit\u001B[39;00m \u001B[38;5;28;01mimport\u001B[39;00m \u001B[38;5;241m*\u001B[39m\n\u001B[1;32m      2\u001B[0m \u001B[38;5;28;01mimport\u001B[39;00m \u001B[38;5;21;01mmatplotlib\u001B[39;00m\u001B[38;5;21;01m.\u001B[39;00m\u001B[38;5;21;01mpyplot\u001B[39;00m \u001B[38;5;28;01mas\u001B[39;00m \u001B[38;5;21;01mplt\u001B[39;00m\n",
      "\u001B[0;31mModuleNotFoundError\u001B[0m: No module named 'qiskit'"
     ]
    }
   ],
   "source": [
    "from qiskit import *\n",
    "import matplotlib.pyplot as plt"
   ]
  },
  {
   "cell_type": "markdown",
   "id": "74d1bdfbad6a6550",
   "metadata": {},
   "source": [
    "Création des index dans le circuit quantiques pour les 4 joueurs, la réponse, et les 3 indices données par les joueurs"
   ]
  },
  {
   "cell_type": "code",
   "execution_count": null,
   "id": "5b1dcd70ea933031",
   "metadata": {
    "collapsed": false
   },
   "outputs": [],
   "source": [
    "PLAYER_ONE = 0\n",
    "PLAYER_TWO = 1\n",
    "PLAYER_THREE = 2\n",
    "PLAYER_FOUR = 3\n",
    "KEY = 4\n",
    "CLUE_ONE = 5\n",
    "CLUE_TWO = 6\n",
    "CLUE_THREE = 7"
   ]
  },
  {
   "cell_type": "markdown",
   "source": [
    "Création d'une fonction pour afficher le circuit quantique"
   ],
   "metadata": {
    "collapsed": false
   },
   "id": "2439c8f7f3a752aa"
  },
  {
   "cell_type": "code",
   "execution_count": null,
   "outputs": [],
   "source": [
    "def display(circ):\n",
    "    circ.draw()\n",
    "    circ.draw('mpl')\n",
    "    plt.draw()\n",
    "    plt.show()"
   ],
   "metadata": {
    "ExecuteTime": {
     "start_time": "2023-12-06T21:42:47.116457Z"
    }
   },
   "id": "185c7c8948d795a5"
  },
  {
   "cell_type": "markdown",
   "id": "a089e4cf2b63d470",
   "metadata": {},
   "source": [
    "Création du circuit quantique"
   ]
  },
  {
   "cell_type": "code",
   "execution_count": 11,
   "id": "62707d2c52d8ad31",
   "metadata": {
    "ExecuteTime": {
     "end_time": "2023-12-06T21:42:47.135839Z",
     "start_time": "2023-12-06T21:42:47.126900Z"
    }
   },
   "outputs": [
    {
     "ename": "NameError",
     "evalue": "name 'QuantumCircuit' is not defined",
     "output_type": "error",
     "traceback": [
      "\u001B[0;31m---------------------------------------------------------------------------\u001B[0m",
      "\u001B[0;31mNameError\u001B[0m                                 Traceback (most recent call last)",
      "Cell \u001B[0;32mIn[11], line 1\u001B[0m\n\u001B[0;32m----> 1\u001B[0m circ \u001B[38;5;241m=\u001B[39m QuantumCircuit(\u001B[38;5;241m8\u001B[39m)\n",
      "\u001B[0;31mNameError\u001B[0m: name 'QuantumCircuit' is not defined"
     ]
    }
   ],
   "source": [
    "circ = QuantumCircuit(8)"
   ]
  },
  {
   "cell_type": "markdown",
   "id": "66bfd880f6c16b3c",
   "metadata": {},
   "source": [
    "Création d'une porte d'Hadammar par joueur"
   ]
  },
  {
   "cell_type": "code",
   "execution_count": null,
   "id": "40578dd072b201b6",
   "metadata": {
    "ExecuteTime": {
     "end_time": "2023-12-06T21:42:47.166561Z",
     "start_time": "2023-12-06T21:42:47.140467Z"
    }
   },
   "outputs": [],
   "source": [
    "circ.h(PLAYER_ONE)\n",
    "circ.h(PLAYER_TWO)\n",
    "circ.h(PLAYER_THREE)\n",
    "circ.h(PLAYER_FOUR)"
   ]
  },
  {
   "cell_type": "markdown",
   "source": [
    "Réponses de la joueuse 1"
   ],
   "metadata": {
    "collapsed": false
   },
   "id": "d6ed2889c6368743"
  },
  {
   "cell_type": "code",
   "execution_count": null,
   "id": "26633abf70ac69c",
   "metadata": {
    "ExecuteTime": {
     "start_time": "2023-12-06T21:42:47.142272Z"
    }
   },
   "outputs": [],
   "source": [
    "circ.cx(PLAYER_TWO, KEY)\n",
    "circ.cx(PLAYER_THREE, KEY)\n",
    "circ.cx(PLAYER_FOUR, KEY)"
   ]
  },
  {
   "cell_type": "markdown",
   "source": [
    "Prise en compte des réponses"
   ],
   "metadata": {
    "collapsed": false
   },
   "id": "ce776cdd478b7da4"
  },
  {
   "cell_type": "code",
   "execution_count": null,
   "outputs": [],
   "source": [
    "circ.cx(KEY, CLUE_ONE)\n",
    "circ.cx(KEY, CLUE_TWO)\n",
    "circ.cx(KEY, CLUE_THREE)"
   ],
   "metadata": {
    "collapsed": false
   },
   "id": "1606ec405e8875a1"
  },
  {
   "cell_type": "markdown",
   "source": [
    "Réponses du joueur 2"
   ],
   "metadata": {
    "collapsed": false
   },
   "id": "8bbbeeade3a618f3"
  },
  {
   "cell_type": "code",
   "execution_count": null,
   "outputs": [],
   "source": [
    "circ.cx(PLAYER_THREE, CLUE_ONE)\n",
    "circ.cx(PLAYER_FOUR, CLUE_ONE)"
   ],
   "metadata": {
    "collapsed": false
   },
   "id": "e19e29e76b76ad67"
  },
  {
   "cell_type": "markdown",
   "source": [
    "Prise en compte des réponses"
   ],
   "metadata": {
    "collapsed": false
   },
   "id": "9afae39f539632a3"
  },
  {
   "cell_type": "code",
   "execution_count": null,
   "outputs": [],
   "source": [
    "circ.cx(CLUE_ONE, CLUE_TWO)\n",
    "circ.cx(CLUE_ONE, CLUE_THREE)"
   ],
   "metadata": {
    "collapsed": false
   },
   "id": "bc9391a431079c5b"
  },
  {
   "cell_type": "markdown",
   "source": [
    "Réponse du joueur 3"
   ],
   "metadata": {
    "collapsed": false
   },
   "id": "ba0dab0856de3481"
  },
  {
   "cell_type": "code",
   "execution_count": null,
   "outputs": [],
   "source": [
    "circ.cx(PLAYER_FOUR, CLUE_TWO)"
   ],
   "metadata": {
    "collapsed": false
   },
   "id": "3e86150736c86e74"
  },
  {
   "cell_type": "markdown",
   "source": [
    "Prise en compte de la réponse du joueur 3"
   ],
   "metadata": {
    "collapsed": false
   },
   "id": "e490291b10d66341"
  },
  {
   "cell_type": "code",
   "execution_count": null,
   "outputs": [],
   "source": [
    "circ.cx(CLUE_TWO, CLUE_THREE)"
   ],
   "metadata": {
    "collapsed": false
   },
   "id": "e254ec471467a752"
  }
 ],
 "metadata": {
  "kernelspec": {
   "display_name": "Python 3 (ipykernel)",
   "language": "python",
   "name": "python3"
  },
  "language_info": {
   "codemirror_mode": {
    "name": "ipython",
    "version": 3
   },
   "file_extension": ".py",
   "mimetype": "text/x-python",
   "name": "python",
   "nbconvert_exporter": "python",
   "pygments_lexer": "ipython3",
   "version": "3.11.5"
  }
 },
 "nbformat": 4,
 "nbformat_minor": 5
}
