{
 "cells": [
  {
   "cell_type": "markdown",
   "id": "e875e4dfebb43765",
   "metadata": {},
   "source": [
    "# Import des librairies"
   ]
  },
  {
   "cell_type": "code",
   "execution_count": null,
   "id": "initial_id",
   "metadata": {
    "ExecuteTime": {
     "start_time": "2023-12-07T22:40:19.334506Z"
    }
   },
   "outputs": [],
   "source": [
    "import numpy as np\n",
    "from qiskit import *\n",
    "import matplotlib.pyplot as plt\n",
    "from qiskit.visualization import *"
   ]
  },
  {
   "cell_type": "markdown",
   "id": "74d1bdfbad6a6550",
   "metadata": {},
   "source": [
    "# Création des index dans le circuit quantiques pour les 4 joueurs, et les 4 raisonnements"
   ]
  },
  {
   "cell_type": "code",
   "execution_count": null,
   "id": "5b1dcd70ea933031",
   "metadata": {
    "ExecuteTime": {
     "start_time": "2023-12-07T22:40:19.337548700Z"
    }
   },
   "outputs": [],
   "source": [
    "ALICE = 0\n",
    "BOB = 1\n",
    "CHARLIE = 2\n",
    "DAHLIA = 3\n",
    "MY_REASONING = 4\n",
    "BOB_REASONING = 5\n",
    "CHARLIE_REASONING = 6\n",
    "DAHLIA_REASONING = 7"
   ]
  },
  {
   "cell_type": "markdown",
   "id": "a089e4cf2b63d470",
   "metadata": {},
   "source": [
    "# Création du circuit quantique de 8 qubits"
   ]
  },
  {
   "cell_type": "code",
   "execution_count": null,
   "id": "62707d2c52d8ad31",
   "metadata": {
    "ExecuteTime": {
     "end_time": "2023-12-07T22:40:19.357605600Z",
     "start_time": "2023-12-07T22:40:19.344081900Z"
    }
   },
   "outputs": [],
   "source": [
    "circ = QuantumCircuit(8)"
   ]
  },
  {
   "cell_type": "markdown",
   "id": "66bfd880f6c16b3c",
   "metadata": {},
   "source": [
    "# Création d'une porte d'Hadammar par joueur, cela permet d'avoir toutes les combinaisons de teintue possible"
   ]
  },
  {
   "cell_type": "code",
   "execution_count": null,
   "id": "40578dd072b201b6",
   "metadata": {
    "ExecuteTime": {
     "start_time": "2023-12-07T22:40:19.348077700Z"
    }
   },
   "outputs": [],
   "source": [
    "circ.h(ALICE)\n",
    "circ.h(BOB)\n",
    "circ.h(CHARLIE)\n",
    "circ.h(DAHLIA)\n",
    "circ.barrier()"
   ]
  },
  {
   "cell_type": "markdown",
   "id": "d6ed2889c6368743",
   "metadata": {},
   "source": [
    "# Réponse d'Alice"
   ]
  },
  {
   "cell_type": "code",
   "execution_count": null,
   "id": "26633abf70ac69c",
   "metadata": {
    "ExecuteTime": {
     "start_time": "2023-12-07T22:40:19.351611200Z"
    }
   },
   "outputs": [],
   "source": [
    "circ.cx(BOB, MY_REASONING)\n",
    "circ.cx(CHARLIE, MY_REASONING)\n",
    "circ.cx(DAHLIA, MY_REASONING)\n",
    "circ.barrier()"
   ]
  },
  {
   "cell_type": "markdown",
   "id": "ce776cdd478b7da4",
   "metadata": {},
   "source": [
    "# Prise en compte de la réponse d'Alice par Bob, Charlie et Dahlia"
   ]
  },
  {
   "cell_type": "code",
   "execution_count": null,
   "id": "1606ec405e8875a1",
   "metadata": {
    "ExecuteTime": {
     "start_time": "2023-12-07T22:40:19.355605Z"
    }
   },
   "outputs": [],
   "source": [
    "circ.cx(MY_REASONING, BOB_REASONING)\n",
    "circ.cx(MY_REASONING, CHARLIE_REASONING)\n",
    "circ.cx(MY_REASONING, DAHLIA_REASONING)\n",
    "circ.barrier()"
   ]
  },
  {
   "cell_type": "markdown",
   "id": "8bbbeeade3a618f3",
   "metadata": {},
   "source": [
    "# Réponses de Bob"
   ]
  },
  {
   "cell_type": "code",
   "execution_count": null,
   "id": "e19e29e76b76ad67",
   "metadata": {
    "ExecuteTime": {
     "start_time": "2023-12-07T22:40:19.357605600Z"
    }
   },
   "outputs": [],
   "source": [
    "circ.cx(CHARLIE, BOB_REASONING)\n",
    "circ.cx(DAHLIA, BOB_REASONING)\n",
    "circ.barrier()"
   ]
  },
  {
   "cell_type": "markdown",
   "id": "9afae39f539632a3",
   "metadata": {},
   "source": [
    "# Prise en compte de la réponse de Bob par Charlie et Dahlia"
   ]
  },
  {
   "cell_type": "code",
   "execution_count": null,
   "id": "bc9391a431079c5b",
   "metadata": {
    "ExecuteTime": {
     "end_time": "2023-12-07T22:40:19.430593Z",
     "start_time": "2023-12-07T22:40:19.362898600Z"
    }
   },
   "outputs": [],
   "source": [
    "circ.cx(BOB_REASONING, CHARLIE_REASONING)\n",
    "circ.cx(BOB_REASONING, DAHLIA_REASONING)\n",
    "circ.barrier()"
   ]
  },
  {
   "cell_type": "markdown",
   "id": "ba0dab0856de3481",
   "metadata": {},
   "source": [
    "# Réponse de Charlie"
   ]
  },
  {
   "cell_type": "code",
   "execution_count": null,
   "id": "3e86150736c86e74",
   "metadata": {
    "ExecuteTime": {
     "start_time": "2023-12-07T22:40:19.363897900Z"
    }
   },
   "outputs": [],
   "source": [
    "circ.cx(DAHLIA, CHARLIE_REASONING)\n",
    "circ.barrier()"
   ]
  },
  {
   "cell_type": "markdown",
   "id": "e490291b10d66341",
   "metadata": {},
   "source": [
    "# Prise en compte de la réponse de Charlie par Dahlia"
   ]
  },
  {
   "cell_type": "code",
   "execution_count": null,
   "id": "e254ec471467a752",
   "metadata": {
    "ExecuteTime": {
     "start_time": "2023-12-07T22:40:19.363897900Z"
    }
   },
   "outputs": [],
   "source": [
    "circ.cx(CHARLIE_REASONING, DAHLIA_REASONING)"
   ]
  },
  {
   "cell_type": "code",
   "execution_count": null,
   "id": "644c1c272db72bc1",
   "metadata": {
    "scrolled": false,
    "ExecuteTime": {
     "start_time": "2023-12-07T22:40:19.366899300Z"
    }
   },
   "outputs": [],
   "source": [
    "circ.draw('mpl')"
   ]
  },
  {
   "cell_type": "markdown",
   "source": [
    "# Mesure de tout les qubits"
   ],
   "metadata": {
    "collapsed": false
   },
   "id": "e14badae9e01867e"
  },
  {
   "cell_type": "code",
   "execution_count": null,
   "outputs": [],
   "source": [
    "circ.measure_all()\n",
    "circ.draw('mpl')"
   ],
   "metadata": {
    "collapsed": false,
    "ExecuteTime": {
     "start_time": "2023-12-07T22:40:19.369472900Z"
    }
   },
   "id": "c9f33aa3b3d1dc8a"
  },
  {
   "cell_type": "code",
   "execution_count": null,
   "outputs": [],
   "source": [
    "backend = Aer.get_backend('statevector_simulator')\n",
    "job = backend.run(circ)\n",
    "result = job.result()\n",
    "statevector = result.get_statevector(circ,decimals=3)\n",
    "plot_state_city(statevector)"
   ],
   "metadata": {
    "collapsed": false,
    "ExecuteTime": {
     "start_time": "2023-12-07T22:40:19.372437400Z"
    }
   },
   "id": "8ebb126b4248bf95"
  },
  {
   "cell_type": "code",
   "execution_count": null,
   "outputs": [],
   "source": [],
   "metadata": {
    "collapsed": false,
    "ExecuteTime": {
     "start_time": "2023-12-07T22:40:19.376439500Z"
    }
   },
   "id": "56e8afb63307e970"
  }
 ],
 "metadata": {
  "kernelspec": {
   "display_name": "Python 3 (ipykernel)",
   "language": "python",
   "name": "python3"
  },
  "language_info": {
   "codemirror_mode": {
    "name": "ipython",
    "version": 3
   },
   "file_extension": ".py",
   "mimetype": "text/x-python",
   "name": "python",
   "nbconvert_exporter": "python",
   "pygments_lexer": "ipython3",
   "version": "3.11.5"
  }
 },
 "nbformat": 4,
 "nbformat_minor": 5
}
